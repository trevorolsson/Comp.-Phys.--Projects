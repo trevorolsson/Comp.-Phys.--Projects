{
 "cells": [
  {
   "attachments": {},
   "cell_type": "markdown",
   "metadata": {},
   "source": [
    "# Project 4: Ordinary Differential Equation Solving\n",
    "This project introduces a numerical method to solve a physical ODE."
   ]
  },
  {
   "attachments": {},
   "cell_type": "markdown",
   "metadata": {},
   "source": [
    "## Objective:\n",
    "A mass is attached to a spring and is allowed to oscillate. There is a drag on the system such that the mass ceases its oscillation after a while. We can model this as a second order, linear ODE\n",
    "\n",
    "$$m\\frac{d^{2}x}{dt^{2}}=-kx-c\\frac{dx}{dt}$$\n",
    "\n",
    "1. Solve the system using a self-built fourth-order Rugge-Kutta method\n",
    "    1. Let $m=4, c=2, k=16$, initial condition $x(0)=2$ and boundary condition $\\frac{dx}{dt}|_{t=0}=30$ in the range $0<t<20$.\n",
    "\n",
    "2. Give the final $\\Delta t$ used and list the calculated $x$ at $t=1,2,3, ..., 20$ for six decimal places.\n",
    "\n",
    "3. Determine the solution to the problem using a solver from <code>scipy.integrate</code>.\n",
    "\n",
    "4. Now use the <code>sympy</code> package to determine the answer.\n",
    "\n",
    "5. Compare the three methods by plotting the answer."
   ]
  },
  {
   "attachments": {},
   "cell_type": "markdown",
   "metadata": {},
   "source": [
    "## Solutions:"
   ]
  },
  {
   "cell_type": "markdown",
   "metadata": {},
   "source": []
  },
  {
   "cell_type": "code",
   "execution_count": 38,
   "metadata": {},
   "outputs": [],
   "source": [
    "import numpy as np\n",
    "import matplotlib.pyplot as plt\n",
    "import sympy as sym\n",
    "from sympy.plotting import plot"
   ]
  },
  {
   "cell_type": "code",
   "execution_count": 39,
   "metadata": {},
   "outputs": [],
   "source": [
    "m, k, c = sym.symbols('m k c', real = True)\n",
    "t = sym.Symbol('t', real=True)\n",
    "x = sym.Function('x')(t)"
   ]
  },
  {
   "cell_type": "code",
   "execution_count": 40,
   "metadata": {},
   "outputs": [
    {
     "data": {
      "text/latex": [
       "$\\displaystyle m \\frac{d^{2}}{d t^{2}} x{\\left(t \\right)} = - c \\frac{d}{d t} x{\\left(t \\right)} - k x{\\left(t \\right)}$"
      ],
      "text/plain": [
       "Eq(m*Derivative(x(t), (t, 2)), -c*Derivative(x(t), t) - k*x(t))"
      ]
     },
     "execution_count": 40,
     "metadata": {},
     "output_type": "execute_result"
    }
   ],
   "source": [
    "LHS, RHS = m*sym.diff(sym.diff(x, t), t), -k*x-c*sym.diff(x, t)\n",
    "system = sym.Eq(LHS, RHS)\n",
    "system"
   ]
  },
  {
   "cell_type": "code",
   "execution_count": 58,
   "metadata": {},
   "outputs": [],
   "source": [
    "initial = {x.subs(t,0):2,\n",
    "           sym.diff(x,t).subs(t,0):30}\n",
    "solution = sym.dsolve(system, ics=initial).rhs\n",
    "solution = sym.diff(solution, t)"
   ]
  },
  {
   "cell_type": "code",
   "execution_count": 59,
   "metadata": {},
   "outputs": [
    {
     "data": {
      "text/plain": [
       "[<matplotlib.lines.Line2D at 0x1f2a884ceb0>]"
      ]
     },
     "execution_count": 59,
     "metadata": {},
     "output_type": "execute_result"
    },
    {
     "data": {
      "image/png": "[encoded data removed]",
      "text/plain": [
       "<Figure size 640x480 with 1 Axes>"
      ]
     },
     "metadata": {},
     "output_type": "display_data"
    }
   ],
   "source": [
    "t_array = np.linspace(0,20,1000)\n",
    "solution_numpy = sym.lambdify((t, m, k, c), solution)\n",
    "y = solution_numpy(t_array,1,2,3)\n",
    "\n",
    "plt.plot(t_array, y)"
   ]
  },
  {
   "cell_type": "code",
   "execution_count": null,
   "metadata": {},
   "outputs": [],
   "source": []
  }
 ],
 "metadata": {
  "kernelspec": {
   "display_name": "Python 3",
   "language": "python",
   "name": "python3"
  },
  "language_info": {
   "codemirror_mode": {
    "name": "ipython",
    "version": 3
   },
   "file_extension": ".py",
   "mimetype": "text/x-python",
   "name": "python",
   "nbconvert_exporter": "python",
   "pygments_lexer": "ipython3",
   "version": "3.10.8"
  },
  "orig_nbformat": 4,
  "vscode": {
   "interpreter": {
    "hash": "2213fd06dc5c8fb6d0d0cb5a1d89f86454c525c9776760efd815d21b2002c8fc"
   }
  }
 },
 "nbformat": 4,
 "nbformat_minor": 2
}
