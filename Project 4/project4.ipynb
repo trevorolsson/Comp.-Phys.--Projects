{
 "cells": [
  {
   "attachments": {},
   "cell_type": "markdown",
   "metadata": {},
   "source": [
    "# Project 4: Ordinary Differential Equation Solving\n",
    "This project introduces a numerical method to solve a physical ODE."
   ]
  },
  {
   "attachments": {},
   "cell_type": "markdown",
   "metadata": {},
   "source": [
    "## Objective:\n",
    "A mass is attached to a spring and is allowed to oscillate. There is a drag on the system such that the mass ceases its oscillation after a while. We can model this as a second order, linear ODE\n",
    "\n",
    "$$m\\frac{d^{2}x}{dt^{2}}=-kx-c\\frac{dx}{dt}$$\n",
    "\n",
    "1. Solve the system using a self-built fourth-order Rugge-Kutta method\n",
    "    1. Let $m=4, c=2, k=16$, initial condition $x(0)=2$ and boundary condition $\\frac{dx}{dt}|_{t=0}=30$ in the range $0<t<20$.\n",
    "\n",
    "2. Give the final $\\Delta t$ used and list the calculated $x$ at $t=1,2,3, ..., 20$ for six decimal places.\n",
    "\n",
    "3. Determine the solution to the problem using a solver from <code>scipy.integrate</code>.\n",
    "\n",
    "4. Now use the <code>sympy</code> package to determine the answer.\n",
    "\n",
    "5. Compare the three methods by plotting the answer."
   ]
  },
  {
   "attachments": {},
   "cell_type": "markdown",
   "metadata": {},
   "source": [
    "## Solutions:"
   ]
  },
  {
   "cell_type": "markdown",
   "metadata": {},
   "source": []
  }
 ],
 "metadata": {
  "kernelspec": {
   "display_name": "Python 3",
   "language": "python",
   "name": "python3"
  },
  "language_info": {
   "name": "python",
   "version": "3.11.1 (tags/v3.11.1:a7a450f, Dec  6 2022, 19:58:39) [MSC v.1934 64 bit (AMD64)]"
  },
  "orig_nbformat": 4,
  "vscode": {
   "interpreter": {
    "hash": "f6f0e81540541f1258b07f6c04b05601aa3f8c7261b94b3963eba76a19c45015"
   }
  }
 },
 "nbformat": 4,
 "nbformat_minor": 2
}
