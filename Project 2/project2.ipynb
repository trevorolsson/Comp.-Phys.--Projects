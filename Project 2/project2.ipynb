{
 "cells": [
  {
   "attachments": {},
   "cell_type": "markdown",
   "metadata": {},
   "source": [
    "# Project 2: Practice with a Monte Carlo simulation\n",
    "Some problems are complex and solving them one point at a time is wasteful. Instead the approach of randomly evaluating a point can lead to overall trends as the number of random evaluations becomes large. This is a time efficient method. We will examine a calculation using a Monte Carlo approach."
   ]
  },
  {
   "attachments": {},
   "cell_type": "markdown",
   "metadata": {},
   "source": [
    "## Objective:\n",
    "\n",
    "Consider a pendulum formed by a bob of mass $m$ suspended from a fixed point (hinge) by a rod of length $L$. Assume the following: (1) the rod is rigid, non-extensible and its weight is negligible. (2) There is no friction and (3) The pendulum moves in a vertical plane under the gravitational field. When the oscillations are small, the period of the pendulum becomes\n",
    "\n",
    "$$\\tau_{0}=2\\pi\\sqrt{\\frac{L}{g}}$$\n",
    "\n",
    "However, this changes as oscillations become larger. The goal of this project is to write a Monte Carlo code to determine the period of pendulum as a function of the amplitude $\\theta_{\\text{max}}$. To accomplish this you will:\n",
    "\n",
    "1. Derive the large angle period formula by starting from the conservation of energy and using the <code>sympy</code> package to simplify the algebra.\n",
    "\n",
    "2. From the final result, translate it into a function that accepts\n",
    "    - A variable angle\n",
    "    - The initial angle\n",
    "    - The length of the string\n",
    "    - The gravity of the system\n",
    "\n",
    "1. Write a code that numerically solves determines the pendulum of a period in terms of physical quantities of the problem. To do this, you will calculate the integral for $N = 50$ points for $\\theta_{\\text{max}}$ equally spaced between $\\theta$ and $\\pi$).\n",
    "\n",
    "2. Run this calculation for different number of random points $N_{MC} = 10^{1}, 10^{2}, 10^{3}$.\n"
   ]
  },
  {
   "attachments": {},
   "cell_type": "markdown",
   "metadata": {},
   "source": [
    "## Solutions:"
   ]
  },
  {
   "attachments": {},
   "cell_type": "markdown",
   "metadata": {},
   "source": [
    "1. We begin by importing the relevent packages"
   ]
  },
  {
   "cell_type": "code",
   "execution_count": 79,
   "metadata": {},
   "outputs": [],
   "source": [
    "import numpy as np\n",
    "import matplotlib.pyplot as plt\n",
    "plt.style.use('seaborn-v0_8-notebook')\n",
    "\n",
    "import sympy as sym"
   ]
  },
  {
   "attachments": {},
   "cell_type": "markdown",
   "metadata": {},
   "source": [
    "Using <code>sympy</code> we can define our independent variables and function"
   ]
  },
  {
   "cell_type": "code",
   "execution_count": 80,
   "metadata": {},
   "outputs": [],
   "source": [
    "t = sym.Symbol('t', real=True, positive=True)\n",
    "theta = sym.Function('\\\\theta')(t)"
   ]
  },
  {
   "attachments": {},
   "cell_type": "markdown",
   "metadata": {},
   "source": [
    "An the constants"
   ]
  },
  {
   "cell_type": "code",
   "execution_count": 81,
   "metadata": {},
   "outputs": [],
   "source": [
    "m, g, L = sym.symbols('m, g, L', real=True, positive=True)"
   ]
  },
  {
   "attachments": {},
   "cell_type": "markdown",
   "metadata": {},
   "source": [
    "The figure below visualizes the system we wish to evaluate"
   ]
  },
  {
   "attachments": {},
   "cell_type": "markdown",
   "metadata": {},
   "source": [
    "<img src=\"pendulum.png\"\n",
    "     alt=\"A pendulum of length L with a mass of m starting at some initial angle at time t=0.\"\n",
    "     width=\"500\"\n",
    "     height=\"450\" />"
   ]
  },
  {
   "attachments": {},
   "cell_type": "markdown",
   "metadata": {},
   "source": [
    "The conservation of energy dictates that the sum of all energies in this system must cancel, or\n",
    "\n",
    "$$\\sum E_{\\text{system}} = 0.$$"
   ]
  },
  {
   "attachments": {},
   "cell_type": "markdown",
   "metadata": {},
   "source": [
    "Seeing that there is only kinetic and potential energy that governs the motion of this pendulum, we can represent them respectively as\n",
    "\n",
    "$$K = \\frac{1}{2}I\\omega^{2},~V = mgh$$\n",
    "\n",
    "where $I$ is the moment of intertia of the pendulum and $h$ is the height difference from the initial starting point and the point under evaluation. Adding these together, the potential energy has a negative value gravity has a negative magnitude as it \"points\" in the negative direction yielding\n",
    "\n",
    "$$0 = \\frac{1}{2}I\\omega^{2}-mg\\Delta h.$$\n",
    "\n",
    "Before we go about coding this, we can further break down some variables to more fundamental components. $I$ for example can be found trivially\n",
    "\n",
    "$$I = \\int dm~r^{2}|_{r = L} = mL^{2},$$\n",
    "\n",
    "the height difference by observation is\n",
    "\n",
    "$$\\Delta h = \\cos(\\theta(t))-\\cos(\\theta_{0}),$$\n",
    "\n",
    "and the angular frequency is defined as the rate of change of the angle or $\\omega \\equiv \\frac{d\\theta}{dt}$. So we can start from the following equation\n",
    "\n",
    "$$0 = \\frac{1}{2}m\\left(L\\dot{\\theta}\\right)^{2}-mgL\\left[\\cos(\\theta(t))-\\cos(\\theta_{0})\\right]$$"
   ]
  },
  {
   "cell_type": "code",
   "execution_count": 82,
   "metadata": {},
   "outputs": [],
   "source": [
    "K = sym.Rational(1,2)*m*(L*sym.diff(theta))**2\n",
    "V = m*g*L*(sym.cos(theta)-sym.cos(theta.subs(t,0)))\n",
    "conservation = sym.Eq(K,V)\n",
    "solutions= sym.solve(conservation, sym.diff(theta))"
   ]
  },
  {
   "attachments": {},
   "cell_type": "markdown",
   "metadata": {},
   "source": [
    "<code>solutions</code> has two solutions in a list, one positive and one negative because we have to take the square root of the entire equation at one point in the simplification. We select only the even solution as the period $\\tau$ must be a positive number so now $\\frac{d\\theta}{dt}$ is represented as"
   ]
  },
  {
   "cell_type": "code",
   "execution_count": 83,
   "metadata": {},
   "outputs": [
    {
     "data": {
      "text/latex": [
       "$\\displaystyle \\frac{\\sqrt{2} \\sqrt{g} \\sqrt{- \\cos{\\left(\\theta{\\left(0 \\right)} \\right)} + \\cos{\\left(\\theta{\\left(t \\right)} \\right)}}}{\\sqrt{L}}$"
      ],
      "text/plain": [
       "sqrt(2)*sqrt(g)*sqrt(-cos(\\theta(0)) + cos(\\theta(t)))/sqrt(L)"
      ]
     },
     "execution_count": 83,
     "metadata": {},
     "output_type": "execute_result"
    }
   ],
   "source": [
    "dtheta = solutions[1]\n",
    "dtheta"
   ]
  },
  {
   "attachments": {},
   "cell_type": "markdown",
   "metadata": {},
   "source": [
    "Our current equation has units of $1/\\text{time}$ so we invert the entire equation and integrate with respect to $\\theta$ with the lowest point in the swing being at $\\theta=0$"
   ]
  },
  {
   "cell_type": "code",
   "execution_count": 84,
   "metadata": {},
   "outputs": [
    {
     "data": {
      "text/latex": [
       "$\\displaystyle \\int\\limits_{0}^{\\theta{\\left(0 \\right)}} \\frac{\\sqrt{2} \\sqrt{L}}{2 \\sqrt{g} \\sqrt{- \\cos{\\left(\\theta{\\left(0 \\right)} \\right)} + \\cos{\\left(\\theta{\\left(t \\right)} \\right)}}}\\, d\\theta{\\left(t \\right)}$"
      ],
      "text/plain": [
       "Integral(sqrt(2)*sqrt(L)/(2*sqrt(g)*sqrt(-cos(\\theta(0)) + cos(\\theta(t)))), (\\theta(t), 0, \\theta(0)))"
      ]
     },
     "execution_count": 84,
     "metadata": {},
     "output_type": "execute_result"
    }
   ],
   "source": [
    "t = sym.Integral(dtheta**(-1), (theta, 0, theta.subs(t,0)))\n",
    "t\n"
   ]
  },
  {
   "attachments": {},
   "cell_type": "markdown",
   "metadata": {},
   "source": [
    "And because this takes place in one of the four quadrants of the rotation, we multiply this quantity by 4 to get the period"
   ]
  },
  {
   "cell_type": "code",
   "execution_count": 85,
   "metadata": {},
   "outputs": [
    {
     "data": {
      "text/latex": [
       "$\\displaystyle 4 \\int\\limits_{0}^{\\theta{\\left(0 \\right)}} \\frac{\\sqrt{2} \\sqrt{L}}{2 \\sqrt{g} \\sqrt{- \\cos{\\left(\\theta{\\left(0 \\right)} \\right)} + \\cos{\\left(\\theta{\\left(t \\right)} \\right)}}}\\, d\\theta{\\left(t \\right)}$"
      ],
      "text/plain": [
       "4*Integral(sqrt(2)*sqrt(L)/(2*sqrt(g)*sqrt(-cos(\\theta(0)) + cos(\\theta(t)))), (\\theta(t), 0, \\theta(0)))"
      ]
     },
     "execution_count": 85,
     "metadata": {},
     "output_type": "execute_result"
    }
   ],
   "source": [
    "T = 4*t\n",
    "T"
   ]
  },
  {
   "attachments": {},
   "cell_type": "markdown",
   "metadata": {},
   "source": [
    "2. From here, we can create our function such that we represent the integrand (we could continue with the <code>lambdify</code> method but for clarity we will code it from scratch). "
   ]
  },
  {
   "cell_type": "code",
   "execution_count": 86,
   "metadata": {},
   "outputs": [
    {
     "data": {
      "text/plain": [
       "0.6388765649999399"
      ]
     },
     "execution_count": 86,
     "metadata": {},
     "output_type": "execute_result"
    }
   ],
   "source": [
    "def integrand(theta, initial, length, gravity):\n",
    "    return 4*(2*(gravity/length)*(np.cos(theta)-np.cos(initial)))**(-1/2)\n",
    "integrand(0,np.pi, 1, 9.8)"
   ]
  },
  {
   "attachments": {},
   "cell_type": "markdown",
   "metadata": {},
   "source": [
    "3. "
   ]
  },
  {
   "cell_type": "code",
   "execution_count": 87,
   "metadata": {},
   "outputs": [],
   "source": [
    "def integral(start, stop, N_pts, sample, *args):\n",
    "    \n",
    "    random_theta = np.random.uniform(start, sample, N_pts)\n",
    "    \n",
    "    Integral = np.sum(integrand(random_theta,*args))\n",
    "    \n",
    "    return Integral*(stop-start)/N_pts"
   ]
  },
  {
   "attachments": {},
   "cell_type": "markdown",
   "metadata": {},
   "source": [
    "4. "
   ]
  },
  {
   "cell_type": "code",
   "execution_count": 88,
   "metadata": {},
   "outputs": [],
   "source": [
    "def evaluate(start, stop, N_pts, N_evals, *args):\n",
    "    \n",
    "    theta_array = np.linspace(start, stop, N_pts)\n",
    "    \n",
    "    solution_array = np.zeros((N_evals, N_pts))\n",
    "    \n",
    "    for idx in range(N_evals):\n",
    "        for jdx, j in enumerate(theta_array):\n",
    "            solution_array[idx,jdx] = integral(start, stop, N_pts, j, *args)\n",
    "    return theta_array, solution_array"
   ]
  },
  {
   "cell_type": "code",
   "execution_count": 89,
   "metadata": {},
   "outputs": [],
   "source": [
    "gravity = 9.8\n",
    "length = 1\n",
    "initial = np.pi\n",
    "N_pts = 20\n",
    "start, stop = 0, np.pi"
   ]
  },
  {
   "cell_type": "code",
   "execution_count": 90,
   "metadata": {},
   "outputs": [
    {
     "data": {
      "text/plain": [
       "Text(0, 0.5, 'Period [seconds]')"
      ]
     },
     "execution_count": 90,
     "metadata": {},
     "output_type": "execute_result"
    },
    {
     "data": {
      "image/png": "[encoded data removed]",
      "text/plain": [
       "<Figure size 800x500 with 3 Axes>"
      ]
     },
     "metadata": {},
     "output_type": "display_data"
    }
   ],
   "source": [
    "\n",
    "fig, ax = plt.subplots(ncols=3, nrows=1, figsize=(8,5), sharex = True, sharey=True)\n",
    "plt.subplots_adjust(hspace=0, wspace=0)\n",
    "colors = ['k', 'r', 'b']\n",
    "ecolors = ['gray', 'pink', 'lightblue']\n",
    "labels = ['$10^{1}$', '$10^{2}$', '$10^{3}$']\n",
    "for i in range(3):\n",
    "    thetas, solutions = evaluate(start, stop, N_pts, 10**(i+1), initial, length, gravity)  \n",
    "    ax[i].errorbar(x= thetas/np.pi, y = np.abs(np.mean(solutions, axis=0)), yerr = np.abs(np.std(solutions, axis=0)),\n",
    "                marker='o', linewidth =0, markersize=2, elinewidth=0.5, ecolor = ecolors[i], color=colors[i], label = labels[i] + ' Samples/point')\n",
    "    ax[i].legend(loc='best')\n",
    "    \n",
    "ax[0].set_yscale('log', base=2)\n",
    "ax[0].set_ylim([2**1, 2**3])\n",
    "ax[0].set_xlim([0, 1])\n",
    "ax[0].set_xticks(np.arange(0,1,0.25))\n",
    "ax[0].set_xticklabels(['$\\\\frac{0}{4}$', '$\\\\frac{1}{4}$', '$\\\\frac{2}{4}$', '$\\\\frac{3}{4}$'])\n",
    "ax[1].set_xlabel('Initial Angle [$\\\\pi$ units]', fontsize=15)\n",
    "ax[0].set_ylabel('Period [seconds]', fontsize=15)\n",
    "    "
   ]
  },
  {
   "cell_type": "code",
   "execution_count": null,
   "metadata": {},
   "outputs": [],
   "source": []
  }
 ],
 "metadata": {
  "kernelspec": {
   "display_name": "Python 3",
   "language": "python",
   "name": "python3"
  },
  "language_info": {
   "codemirror_mode": {
    "name": "ipython",
    "version": 3
   },
   "file_extension": ".py",
   "mimetype": "text/x-python",
   "name": "python",
   "nbconvert_exporter": "python",
   "pygments_lexer": "ipython3",
   "version": "3.10.8"
  },
  "orig_nbformat": 4,
  "vscode": {
   "interpreter": {
    "hash": "2213fd06dc5c8fb6d0d0cb5a1d89f86454c525c9776760efd815d21b2002c8fc"
   }
  }
 },
 "nbformat": 4,
 "nbformat_minor": 2
}
