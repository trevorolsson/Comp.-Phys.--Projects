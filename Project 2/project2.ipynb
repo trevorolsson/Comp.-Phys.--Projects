{
 "cells": [
  {
   "attachments": {},
   "cell_type": "markdown",
   "metadata": {},
   "source": [
    "# Project 2: Practice with a Monte Carlo simulation\n",
    "Some problems are complex and solving them one point at a time is wasteful. Instead the approach of randomly evaluating a point can lead to overall trends as the number of random evaluations becomes large. This is a time efficient method. We will examine a calculation using a Monte Carlo approach."
   ]
  },
  {
   "attachments": {},
   "cell_type": "markdown",
   "metadata": {},
   "source": [
    "## Objective:\n",
    "\n",
    "Consider a pendulum formed by a bob of mass m suspended from a fixed point (hinge) by a rod of length $L$. Assume the following: (1) the rod is rigid, non-extensible and its weight is negligible. (2) There is no friction and (3) The pendulum moves in a vertical plane under the gravitational field. When the oscillations are small, the period of the pendulum becomes\n",
    "\n",
    "$$\\tau_{0}=2\\pi\\sqrt{\\frac{L}{g}}$$\n",
    "\n",
    "However, this changes as oscillations become larger. The goal of this homework is to write a Monte Carlo code to determine the period of pendulum as a function of the amplitude $\\theta_{\\text{max}}$. To accomplish this you will:\n",
    "\n",
    "1. Write a code that numerically solves determines the pendulum of a period in terms of physical quantities of the problem. To do this, you will calculate the integral for $N = 50$ points for $\\theta_{\\text{max}}$ equally spaced between $\\theta$ and $\\pi$ (e.g. $\\theta = \\pi/100, 3\\pi/100, ..., 99\\pi/100$).\n",
    "\n",
    "2. Run this calculation for different number of random points $N_{MC} = 10^{2}, 10^{4}, 10^{6}$.\n",
    "\n",
    "3. Produce the following plots of $\\tau(\\theta_{\\text{max}})$ (with the corresponding units).\n",
    "    1. Comparing 10 different “runs” with $NMC = 10_{2}$.\n",
    "    2. Comparing 10 different “runs” with $N_{MC} = 10^{4}$.\n",
    "    3. Comparing “runs” with $N_{MC} = 10^{2}, 10^{4}, 10^{6}$."
   ]
  },
  {
   "attachments": {},
   "cell_type": "markdown",
   "metadata": {},
   "source": [
    "## Solutions:"
   ]
  },
  {
   "attachments": {},
   "cell_type": "markdown",
   "metadata": {},
   "source": [
    "1. "
   ]
  }
 ],
 "metadata": {
  "kernelspec": {
   "display_name": "Python 3",
   "language": "python",
   "name": "python3"
  },
  "language_info": {
   "codemirror_mode": {
    "name": "ipython",
    "version": 3
   },
   "file_extension": ".py",
   "mimetype": "text/x-python",
   "name": "python",
   "nbconvert_exporter": "python",
   "pygments_lexer": "ipython3",
   "version": "3.10.8 (tags/v3.10.8:aaaf517, Oct 11 2022, 16:50:30) [MSC v.1933 64 bit (AMD64)]"
  },
  "orig_nbformat": 4,
  "vscode": {
   "interpreter": {
    "hash": "2213fd06dc5c8fb6d0d0cb5a1d89f86454c525c9776760efd815d21b2002c8fc"
   }
  }
 },
 "nbformat": 4,
 "nbformat_minor": 2
}
