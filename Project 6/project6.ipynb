{
 "cells": [
  {
   "attachments": {},
   "cell_type": "markdown",
   "metadata": {},
   "source": [
    "$$\\newcommand{\\ket}[1]{\\left|{#1}\\right\\rangle}$$\n",
    "$$\\newcommand{\\bra}[1]{\\left\\langle{#1}\\right|}$$\n",
    "$$\\newcommand{\\expect}[1]{\\left\\langle{#1}\\right\\rangle{}}$$\n",
    "$$\\newcommand{\\inner}[1]{\\langle{#1}|\\rangle{#1}}$$\n",
    "$$\\newcommand{\\expectfull}[2]{\\left\\langle{#1}\\right|{#2}\\left|{#1}\\right\\rangle}$$"
   ]
  },
  {
   "attachments": {},
   "cell_type": "markdown",
   "metadata": {},
   "source": [
    "# Project 6: Determination of the Ground-State of the Lennard Jones Potential\n",
    "This project uses a Monte-Carlo Variational method to find the approximate wavefunction of an arbitrary potential in 1-D."
   ]
  },
  {
   "attachments": {},
   "cell_type": "markdown",
   "metadata": {},
   "source": [
    "## Objective:\n",
    "\n",
    "The interaction between neutral, nonpolarized atoms is modelled by the so-called _Lennard-Jones Potential_, which is a radial potential given by\n",
    "\n",
    "$$V(r) = 4\\varepsilon \\left(\\left[\\frac{\\sigma}{r}\\right]^{12}-\\left[\\frac{\\sigma}{r}\\right]^{6}\\right)$$\n",
    "\n",
    "where $\\varepsilon$ is the bonding energy, $\\sigma$ is the van der Waals radius, and $r$ is the separation distance between the two particles.\n",
    "\n",
    "Many methods can be employed to determine the properities of an electron that resides in this potential, however we will be focusing in on the Variational Method. This is the process by which a trial wavefunction $\\ket{\\psi_{\\text{trial}}}$ is assumed to fit within the bounds of the well. This wavefunction is characterized by adjustable fit parameters $(\\alpha, \\gamma, \\beta, ...)$ that change to optimize the energy expectation value $\\expect{E}$. The choice is not completely arbitrary, as it is important to predict the behavior of the guess at the boundaries of the well- namely that it converges to some value. Once a sufficient trial function is determined, we minimize the expectation value of energy with respect to the adjustable parameters\n",
    "\n",
    "$$\\nabla_{\\alpha, \\beta, \\gamma,...}\\frac{\\expectfull{\\psi_{\\text{trial}}}{H}}{\\langle{\\psi_{\\text{trial}}}|{\\psi_{\\text{trial}}} \\rangle}=0.$$\n",
    "\n",
    "Returning the values of the parameters that minimize the energy and plugging them back into $\\expect{E}$ gives an upper bound on the energy. \n",
    "\n",
    "**Our goal is to create a random trial wavefunction array $\\psi_{i}$, pick a random array element $i$, nudge the value of the wavefunction up or down, examine the energy expectation value and see if it increases or decreases. We discard changes to the wavefunction that increase the energy and keep changes that decrease the energy.**\n",
    "\n",
    "We do this until the changes to the energy fall within some threshold and then return the final wavefunction.\n",
    "\n",
    "### Task:\n",
    "\n",
    "1. Descritize $\\expect{E}$. \n",
    "\n",
    "2. Create a function that generates a random trial wavefunction of length $N=1000$ assuming that (in atomic units) the bonding energy is $\\varepsilon = 10$, van der Waals radius is $\\sigma=1$, and the bounds are $[0.8, 8]\\sigma$. \n",
    "\n",
    "3. Plot the LJP given the parameters above with the trial wavefunction.\n",
    "\n",
    "4. Implement the variational method as outlined in the description (note the bolded text).\n",
    "\n",
    "5. Plot the wavefunction relative to the LJP.\n",
    "\n",
    "6. Comment on the performance of the method."
   ]
  },
  {
   "attachments": {},
   "cell_type": "markdown",
   "metadata": {},
   "source": [
    "## Solution:"
   ]
  },
  {
   "attachments": {},
   "cell_type": "markdown",
   "metadata": {},
   "source": [
    "First we import the packages"
   ]
  },
  {
   "cell_type": "code",
   "execution_count": 1,
   "metadata": {},
   "outputs": [],
   "source": [
    "import numpy as np\n",
    "import matplotlib.pyplot as plt"
   ]
  },
  {
   "attachments": {},
   "cell_type": "markdown",
   "metadata": {},
   "source": [
    "1. The normalization factor $\\langle{\\psi_{\\text{trial}}}|{\\psi_{\\text{trial}}}\\rangle^{-1}$ can be rewritten as\n",
    "\n",
    "$$C = \\frac{1}{\\sqrt{\\sum_{i=0}^{n-1}\\psi_{i}^{2}}},$$\n",
    "\n",
    "and the numerator can be expanded as the time-independent Schrodinger equation with a central-difference representation\n",
    "\n",
    "$$\\expect{E}\\approx C\\sum_{i=0}^{n-1}\\left[\\left(\\psi_{i+1}-2\\psi_{i}+\\psi_{i-1}\\right)\\delta r^{-2}+V(r)\\psi_{i}\\right]\\psi_{i}\\delta r$$\n",
    "\n",
    "where $i$ is the index, $n$ is the length of the array, $\\delta r$ is the interval size of the radius. "
   ]
  },
  {
   "attachments": {},
   "cell_type": "markdown",
   "metadata": {},
   "source": [
    "2. First, we can set up the constants and grid for our calculation."
   ]
  },
  {
   "cell_type": "code",
   "execution_count": 2,
   "metadata": {},
   "outputs": [],
   "source": [
    "length = 72\n",
    "sigma = 1\n",
    "epsilon = 10\n",
    "r = np.linspace(0.8, 8, length)*sigma\n",
    "dr = np.diff(r)[0]"
   ]
  },
  {
   "attachments": {},
   "cell_type": "markdown",
   "metadata": {},
   "source": [
    "The initial wavefunction is largely arbitrary, so we can create a noisy array that is bounded at the ends"
   ]
  },
  {
   "cell_type": "code",
   "execution_count": 3,
   "metadata": {},
   "outputs": [],
   "source": [
    "def trial(length):\n",
    "    # np.array([*[0]*3, *np.random.rand(length-6), *[0]*3])\n",
    "    trl = np.zeros(length) \n",
    "    # Creates empty array of length \"length\"\n",
    "    \n",
    "    for i in range(5, int(length/5)): \n",
    "        # Fills the array from the first index to the \"length/5\" index\n",
    "        \n",
    "       trl[i] = 0.5\n",
    "       # Sets the magnitude as 0.5\n",
    "    return trl"
   ]
  },
  {
   "attachments": {},
   "cell_type": "markdown",
   "metadata": {},
   "source": [
    "And the LJP is simply"
   ]
  },
  {
   "cell_type": "code",
   "execution_count": 4,
   "metadata": {},
   "outputs": [],
   "source": [
    "def ljp(r, epsilon, sigma):\n",
    "    return 4*epsilon*((sigma/r)**12-(sigma/r)**6)"
   ]
  },
  {
   "attachments": {},
   "cell_type": "markdown",
   "metadata": {},
   "source": [
    "3. Now we can plot the potential and the start of our wavefunction:"
   ]
  },
  {
   "cell_type": "code",
   "execution_count": 5,
   "metadata": {},
   "outputs": [],
   "source": [
    "guess = trial(length)\n",
    "potential= ljp(r, epsilon, sigma)"
   ]
  },
  {
   "cell_type": "code",
   "execution_count": 6,
   "metadata": {},
   "outputs": [
    {
     "data": {
      "image/png": "[encoded data removed]",
      "text/plain": [
       "<Figure size 500x500 with 2 Axes>"
      ]
     },
     "metadata": {},
     "output_type": "display_data"
    }
   ],
   "source": [
    "with plt.style.context(\"seaborn-notebook\"):\n",
    "    fig, ax = plt.subplots(ncols=1, nrows=1, figsize=(5,5))\n",
    "    ay = ax.twinx()\n",
    "    ax.plot(r, potential, color='g', linewidth = 2)\n",
    "    ay.plot(r, guess, color='k', linewidth = 0.75)\n",
    "\n",
    "    ax.set_xlim([r[0], r[-1]])\n",
    "    ax.set_ylim([-11, 2])\n",
    "\n",
    "    ay.set_xlim([r[0], r[-1]])\n",
    "    ay.set_ylim([-11, 2])\n",
    "\n",
    "    ax.set_xlabel(\"Radius [$\\\\sigma$]\", fontsize=15)\n",
    "    ax.set_ylabel(\"Energy [a.u.]\", fontsize=15, color='g')\n",
    "\n",
    "    ay.set_ylabel(\"$\\\\psi(r)$\", fontsize=15, color='k')\n",
    "\n",
    "    ax.set_title(\"Trial function relative to the LJP\", fontsize=15)\n",
    "plt.show()"
   ]
  },
  {
   "attachments": {},
   "cell_type": "markdown",
   "metadata": {},
   "source": [
    "4. "
   ]
  },
  {
   "cell_type": "code",
   "execution_count": 7,
   "metadata": {},
   "outputs": [],
   "source": [
    "def normalize(guess, dr):\n",
    "    return guess / np.sqrt(np.sum(guess*guess))"
   ]
  },
  {
   "cell_type": "code",
   "execution_count": 8,
   "metadata": {},
   "outputs": [
    {
     "data": {
      "image/png": "[encoded data removed]",
      "text/plain": [
       "<Figure size 640x480 with 1 Axes>"
      ]
     },
     "metadata": {},
     "output_type": "display_data"
    }
   ],
   "source": [
    "norm = normalize(guess, dr)\n",
    "plt.plot(norm)\n",
    "plt.show()"
   ]
  },
  {
   "cell_type": "code",
   "execution_count": 9,
   "metadata": {},
   "outputs": [],
   "source": [
    "def expectation(guess, potential, r, dr):\n",
    "\n",
    "    norm_trl = normalize(guess, dr)                   \n",
    "    \n",
    "    Ef = dr*(potential[0]*norm_trl[0]**2-(1/2)*norm_trl[0]*\n",
    "                  (norm_trl[2]+norm_trl[1]-2*norm_trl[0])/dr**2)\n",
    "    # Calculates the energy at the first index using Forwards-Difference\n",
    "    Eb = dr*(potential[-1]*norm_trl[-1]**2-(1/2)*norm_trl[-1]*\n",
    "                  (norm_trl[-1]+norm_trl[-3]-2*norm_trl[-2])/dr**2)\n",
    "    # Calculates the energy at the last index using Backwards-Difference\n",
    "    E0 = np.sum(dr*(potential[2:]*norm_trl[1:-1]**2-(1/2)*norm_trl[1:-1]*\n",
    "                (norm_trl[2:]+norm_trl[0:-2]-2*norm_trl[1:-1])/dr**2))\n",
    "    # Calculates the energy using the Central-Difference\n",
    "    return E0+Ef+Eb # Returns the <E>"
   ]
  },
  {
   "cell_type": "code",
   "execution_count": 10,
   "metadata": {},
   "outputs": [
    {
     "data": {
      "text/plain": [
       "9.196238185290932"
      ]
     },
     "execution_count": 10,
     "metadata": {},
     "output_type": "execute_result"
    }
   ],
   "source": [
    "expectation(guess, potential, r, dr)"
   ]
  },
  {
   "cell_type": "code",
   "execution_count": 11,
   "metadata": {},
   "outputs": [],
   "source": [
    "def variational(guess, potential, r, evaluations):\n",
    "    dr = np.diff(r)[0]\n",
    "    E0 = expectation(guess, potential, r, dr)\n",
    "    store = guess\n",
    "\n",
    "    counter = 0\n",
    "    E_after = 0\n",
    "    while counter<evaluations:\n",
    "        dpsi = 0.25*(np.random.rand()-0.5)\n",
    "        \n",
    "        rdx =  np.random.randint(len(r)-1)\n",
    "         \n",
    "        guess[rdx] = guess[rdx]+dpsi\n",
    "        E_after = expectation(guess, potential, r, dr)\n",
    "        \n",
    "        if E_after>E0:\n",
    "            guess[rdx] = store[rdx]\n",
    "            print(counter)\n",
    "        else:\n",
    "            store[rdx] = guess[rdx]\n",
    "            E0 = E_after\n",
    "            print(counter)\n",
    "            counter+=1\n",
    "    return normalize(store, dr)"
   ]
  },
  {
   "cell_type": "code",
   "execution_count": 12,
   "metadata": {},
   "outputs": [],
   "source": [
    "# y = variational(guess, potential, r, 200)\n",
    "# plt.plot(y)\n",
    "# plt.show()"
   ]
  },
  {
   "cell_type": "code",
   "execution_count": 13,
   "metadata": {},
   "outputs": [],
   "source": [
    "def variational_working(un_trl:np.array, r_left:float, r_right:float, dr:float, length:int, epsilon:float, sigma:float, N:int):\n",
    "    # Defines the variational method\n",
    "    trl_old = np.zeros(length)\n",
    "    # Creates a back_up wavefunction\n",
    "    E0 = expectation(un_trl, potential, r, dr)\n",
    "    print(E0)\n",
    "    # Calculates the <E> for the input trial wave function\n",
    "    for j in range(length): \n",
    "        # Copies the input wavefunction to the back-up wavefunction\n",
    "        trl_old[j] = un_trl[j]\n",
    "    E_guess = 0 \n",
    "    # Initializes the guess energy\n",
    "    i = 0 \n",
    "    # Initializes the counter\n",
    "    E_test_g = np.zeros(N) \n",
    "    # Creates an empty array to store energy values as a function of N\n",
    "    while i < N: \n",
    "        # Loops while i<N\n",
    "        k = np.random.randint(0, length-1) \n",
    "        # Chooses a random integer in the array\n",
    "        trl_old[k] = un_trl[k] \n",
    "        # Stores each previous successful iteration\n",
    "        dphi = 0.5*(np.random.rand()-0.5) \n",
    "        # Generates a small nudge \n",
    "        un_trl[k] = un_trl[k] + dphi \n",
    "        # Nudges the wavefunction at the k_th index\n",
    "        \n",
    "        E_guess = expectation(un_trl, potential, r, dr) \n",
    "        # Checks the <E> of this nudged WF\n",
    "        ##### FOR DEBUGGING #####\n",
    "        #print(i, k, E0, E_guess)\n",
    "        if E_guess > E0: \n",
    "            # If the guess is larger than the original, it discards the \n",
    "            # nudged WF\n",
    "            un_trl[k] = trl_old[k]\n",
    "        else: \n",
    "            # Else, the counter is increased, the new energy replaces the E0 \n",
    "            # and the Energy guess is added to an array tracking the \n",
    "            # convergence\n",
    "            E_test_g[i] = E_guess    \n",
    "            i = i+1\n",
    "            E0 = E_guess\n",
    "            #### FOR DEBUGGING ####\n",
    "            #print(i, k, E0, E_guess)\n",
    "    return  normalize(un_trl, dr) # Returns the normalized calculated WF and a convergence array"
   ]
  },
  {
   "cell_type": "code",
   "execution_count": 15,
   "metadata": {},
   "outputs": [
    {
     "name": "stdout",
     "output_type": "stream",
     "text": [
      "-1.9158528484435127\n"
     ]
    },
    {
     "data": {
      "image/png": "[encoded data removed]",
      "text/plain": [
       "<Figure size 640x480 with 1 Axes>"
      ]
     },
     "metadata": {},
     "output_type": "display_data"
    }
   ],
   "source": [
    "y = variational_working(guess, r[0], r[-1], dr, length, epsilon, sigma, 300)\n",
    "plt.plot(y)\n",
    "plt.show()"
   ]
  },
  {
   "cell_type": "code",
   "execution_count": null,
   "metadata": {},
   "outputs": [],
   "source": []
  }
 ],
 "metadata": {
  "kernelspec": {
   "display_name": "Python 3",
   "language": "python",
   "name": "python3"
  },
  "language_info": {
   "codemirror_mode": {
    "name": "ipython",
    "version": 3
   },
   "file_extension": ".py",
   "mimetype": "text/x-python",
   "name": "python",
   "nbconvert_exporter": "python",
   "pygments_lexer": "ipython3",
   "version": "3.11.1"
  },
  "orig_nbformat": 4,
  "vscode": {
   "interpreter": {
    "hash": "f6f0e81540541f1258b07f6c04b05601aa3f8c7261b94b3963eba76a19c45015"
   }
  }
 },
 "nbformat": 4,
 "nbformat_minor": 2
}
