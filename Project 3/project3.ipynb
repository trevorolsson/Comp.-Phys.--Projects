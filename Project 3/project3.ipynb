{
 "cells": [
  {
   "attachments": {},
   "cell_type": "markdown",
   "metadata": {},
   "source": [
    "# Project 3: Root-finding\n",
    "This project deals with root-finding methods"
   ]
  },
  {
   "attachments": {},
   "cell_type": "markdown",
   "metadata": {},
   "source": [
    "## Objective:\n",
    "1. Using <code>sympy</code>, find how many roots exist in the function $f(x)=1+x^{2}$ for $x\\in \\mathbb{R}$.\n",
    "    1. Find an _exact_ expression for the two initial starting points for a Newton-Raphson algorithm such that successive iterations oscillate with a period of 2. \n",
    "\n",
    "2. Using a bisection algorithm on the function $f(x)=x(x+\\delta)^{-2}$ with $\\delta=10^{-4}$.\n",
    "    1. What is the performance of the algorithm on the initial points $(-1, 1.6)$.\n",
    "\n",
    "3. Modify the bisection method in #2 to a false position algorithm and perform a root-finding analysis on the function $f(x)=\\sin(x)$ and the initial bracketing points at $(0, 0.16)$.\n",
    "    1. Compare with the performance of the bisection algorithm with the same function.\n",
    "\n",
    "4. Use the false position algorithm on the function $g(x)=\\delta+x^{n}$ with $\\delta=-0.001$ and $n=20$ and the initial bracketing points at $(0, 1)$\n",
    "    1. Plot the function."
   ]
  },
  {
   "attachments": {},
   "cell_type": "markdown",
   "metadata": {},
   "source": [
    "## Solutions:"
   ]
  },
  {
   "attachments": {},
   "cell_type": "markdown",
   "metadata": {},
   "source": [
    "1."
   ]
  },
  {
   "cell_type": "markdown",
   "metadata": {},
   "source": []
  }
 ],
 "metadata": {
  "kernelspec": {
   "display_name": "Python 3",
   "language": "python",
   "name": "python3"
  },
  "language_info": {
   "name": "python",
   "version": "3.11.0 (main, Oct 24 2022, 18:26:48) [MSC v.1933 64 bit (AMD64)]"
  },
  "orig_nbformat": 4,
  "vscode": {
   "interpreter": {
    "hash": "f6f0e81540541f1258b07f6c04b05601aa3f8c7261b94b3963eba76a19c45015"
   }
  }
 },
 "nbformat": 4,
 "nbformat_minor": 2
}
