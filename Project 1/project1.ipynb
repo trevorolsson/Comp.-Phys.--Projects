{
 "cells": [
  {
   "attachments": {},
   "cell_type": "markdown",
   "metadata": {},
   "source": [
    "# Project 1: Numerical Integration\n",
    "This project looks at different methods by which a function can be integrated."
   ]
  },
  {
   "attachments": {},
   "cell_type": "markdown",
   "metadata": {},
   "source": [
    "## Objective:\n",
    "Numerically integrate the following function:\n",
    "\n",
    "$$ \\int^{5}_{0}\\left[\\left(\\frac{1}{2}x^{3}-4x\\right)(\\cos(x)+1)\\right]$$\n",
    "\n",
    "1. Design an integration method with a resolution that increases ($N=1,2,4,8,16,32,64,128,512, 1024$):\n",
    "    1. Midpoint method\n",
    "    1. Trapezoidal method\n",
    "    1. Simpson method\n",
    "\n",
    "1. Use <code>scipy.integrate</code> to find the value of the integral.\n",
    "\n",
    "1. Determine the indefinite integral of the the above function with the <code>sympy</code> module.\n",
    "    1. Evaluate the function at the bounds to determine the solution.\n",
    "    \n",
    "1. Compare the precision of all results as a function of resolution for the custom methods."
   ]
  },
  {
   "attachments": {},
   "cell_type": "markdown",
   "metadata": {},
   "source": [
    "## Solutions:"
   ]
  },
  {
   "attachments": {},
   "cell_type": "markdown",
   "metadata": {},
   "source": [
    "We begin by defining the integrand and importing the relevent packages."
   ]
  },
  {
   "cell_type": "code",
   "execution_count": 36,
   "metadata": {},
   "outputs": [],
   "source": [
    "import numpy as np\n",
    "import scipy.integrate as si\n",
    "import sympy as sym\n",
    "import matplotlib.pyplot as plt"
   ]
  },
  {
   "cell_type": "code",
   "execution_count": 37,
   "metadata": {},
   "outputs": [],
   "source": [
    "def integrand(x):\n",
    "    return (1/2*x**3-4*x)*(np.cos(x)+1)"
   ]
  },
  {
   "attachments": {},
   "cell_type": "markdown",
   "metadata": {},
   "source": [
    "We seek to quantify the area beneath the curve as shown below"
   ]
  },
  {
   "cell_type": "code",
   "execution_count": 38,
   "metadata": {},
   "outputs": [
    {
     "data": {
      "image/png": "[encoded data removed]",
      "text/plain": [
       "<Figure size 500x500 with 1 Axes>"
      ]
     },
     "metadata": {},
     "output_type": "display_data"
    }
   ],
   "source": [
    "with plt.style.context(\"seaborn-notebook\"):\n",
    "    x = np.linspace(0,5,256)\n",
    "    f = integrand(x)\n",
    "    fig, ax = plt.subplots(ncols=1, nrows=1, figsize=(5,5))\n",
    "    ax.plot(x,f,color=\"b\", linewidth = 2, label=\"f(x)\")\n",
    "    ax.fill_between(x, f, 0, label=\"Area\")\n",
    "\n",
    "    ax.set_xlabel(\"x\", fontsize=15)\n",
    "    ax.set_ylabel(\"Integrand Value\", fontsize=15)\n",
    "\n",
    "    ax.set_xlim([0,5])\n",
    "    ax.set_ylim([np.min(f), np.max(f)])\n",
    "    \n",
    "    ax.legend(loc=\"best\")\n",
    "plt.show()\n",
    "    "
   ]
  },
  {
   "attachments": {},
   "cell_type": "markdown",
   "metadata": {},
   "source": [
    "1. Midpoint rule: Assuming that the integrand is a smooth and continuous function $f(x)$ on the interval $[a,b]$. Let $n$ be a positive integer and $\\Delta x=\\frac{b-a}{n}$. If $[a,b]$ is divided into $n$ segments of length $\\Delta x$ and $m_{i}$ is the midpoint of the $i^{\\text{th}}$ subsegment, we find the approximation of the integral becomes\n",
    "\n",
    "$$M_{n}=\\sum_{i=1}^{n}f(m_{i})\\Delta x$$"
   ]
  },
  {
   "cell_type": "code",
   "execution_count": 39,
   "metadata": {},
   "outputs": [],
   "source": [
    "def midpoint(A,B,N):\n",
    "    x = np.linspace(A+(B-A)/(2*N), B - (B-A)/(2*N), N)\n",
    "    return np.sum(integrand(x))*(B-A)/N"
   ]
  },
  {
   "cell_type": "code",
   "execution_count": 40,
   "metadata": {},
   "outputs": [
    {
     "data": {
      "text/plain": [
       "17.404820658592943"
      ]
     },
     "execution_count": 40,
     "metadata": {},
     "output_type": "execute_result"
    }
   ],
   "source": [
    "midpoint(0,5,256)"
   ]
  },
  {
   "attachments": {},
   "cell_type": "markdown",
   "metadata": {},
   "source": [
    "2. Trapezoidal rule: Assuming that the integrand is a smooth and continuous function $f(x)$ on the interval $[a,b]$. Let $n$ be a positive integer and $\\Delta x=\\frac{b-a}{n}$. If we subdivide the function on the interval into $N$ segments, the sum of those segments approximates the integral, or\n",
    "\n",
    "$$T_{n} = \\frac{1}{2}\\sum^{n}_{i=1} \\left[f(x_{i-1})+f(x_{i})\\right]\\Delta x$$"
   ]
  },
  {
   "cell_type": "code",
   "execution_count": 41,
   "metadata": {},
   "outputs": [],
   "source": [
    "def trapezoidal(A,B,N):\n",
    "    x = np.linspace(A,B,N+1)\n",
    "    return np.sum(1/2*integrand(x[0:-1])+1/2*integrand(x[1:]))*(B-A)/N"
   ]
  },
  {
   "cell_type": "code",
   "execution_count": 42,
   "metadata": {},
   "outputs": [
    {
     "data": {
      "text/plain": [
       "17.409195986887745"
      ]
     },
     "execution_count": 42,
     "metadata": {},
     "output_type": "execute_result"
    }
   ],
   "source": [
    "trapezoidal(0,5,256)"
   ]
  },
  {
   "attachments": {},
   "cell_type": "markdown",
   "metadata": {},
   "source": [
    "3. Simpson's rule: Assuming that the integrand is a smooth and continuous function $f(x)$ on the interval $[a,b]$. Let $n$ be a positive integer and $\\Delta x=\\frac{b-a}{n}$ and $x_{i}=a+i\\Delta x$. The function can be evaluated as the approximation of a polynomial. Skipping the derivation we find that the approximation becomes\n",
    "\n",
    "$$S_{n} = \\frac{h}{3}\\sum^{n/2}_{i=1}\\left(f(x_{2i-2})+4f(x_{2i-1})+f(x_{2i})\\right)$$"
   ]
  },
  {
   "cell_type": "code",
   "execution_count": 43,
   "metadata": {},
   "outputs": [],
   "source": [
    "def simpson(A, B, N):\n",
    "    x = np.linspace(A, B, N)\n",
    "    y = integrand(x)\n",
    "    return ((1/3)*(y[0]+y[-1])+(4/3)*np.sum(y[1:N-1:2])+(2/3)*np.sum(y[2:N-2:2]))*(B-A)/N"
   ]
  },
  {
   "cell_type": "code",
   "execution_count": 44,
   "metadata": {},
   "outputs": [
    {
     "data": {
      "text/plain": [
       "16.29929678524047"
      ]
     },
     "execution_count": 44,
     "metadata": {},
     "output_type": "execute_result"
    }
   ],
   "source": [
    "simpson(0,5,256)"
   ]
  },
  {
   "attachments": {},
   "cell_type": "markdown",
   "metadata": {},
   "source": [
    "2. The <code>scipy</code> package hosts many optimized quadrature methods. We can call the adaptive integration method to determine the value of the integrand"
   ]
  },
  {
   "cell_type": "code",
   "execution_count": 45,
   "metadata": {},
   "outputs": [
    {
     "name": "stdout",
     "output_type": "stream",
     "text": [
      "17.406279103392098\n"
     ]
    }
   ],
   "source": [
    "I_scipy, _ = si.quad(integrand, 0, 5)\n",
    "print(I_scipy)"
   ]
  },
  {
   "attachments": {},
   "cell_type": "markdown",
   "metadata": {},
   "source": [
    "3. The <code>sympy</code> module allows for symbolic representations of operations similar to the functionality found in popular languages like MATLAB or Mathematica. We can determine the indefinite integral and evaluate it at the end points to get the value by first defining the independent variable $x$ and the function given that variable"
   ]
  },
  {
   "cell_type": "code",
   "execution_count": 46,
   "metadata": {},
   "outputs": [
    {
     "data": {
      "text/latex": [
       "$\\displaystyle \\frac{x^{4}}{8} + \\frac{x^{3} \\sin{\\left(x \\right)}}{2} + \\frac{3 x^{2} \\cos{\\left(x \\right)}}{2} - 2 x^{2} - 7 x \\sin{\\left(x \\right)} - 7 \\cos{\\left(x \\right)}$"
      ],
      "text/plain": [
       "x**4/8 + x**3*sin(x)/2 + 3*x**2*cos(x)/2 - 2*x**2 - 7*x*sin(x) - 7*cos(x)"
      ]
     },
     "execution_count": 46,
     "metadata": {},
     "output_type": "execute_result"
    }
   ],
   "source": [
    "X = sym.Symbol('x', real = True)\n",
    "f = (sym.Rational(1/2)*X**3-4*X)*(sym.cos(X)+1)\n",
    "\n",
    "Ind = sym.integrate(f, X)\n",
    "Ind"
   ]
  },
  {
   "cell_type": "code",
   "execution_count": 47,
   "metadata": {},
   "outputs": [
    {
     "data": {
      "text/latex": [
       "$\\displaystyle 17.4062791033921$"
      ],
      "text/plain": [
       "17.4062791033921"
      ]
     },
     "execution_count": 47,
     "metadata": {},
     "output_type": "execute_result"
    }
   ],
   "source": [
    "I_sympy = (Ind.subs(X,5)-Ind.subs(X,0)).evalf()\n",
    "I_sympy"
   ]
  },
  {
   "attachments": {},
   "cell_type": "markdown",
   "metadata": {},
   "source": [
    "4. Comparing the custom methods with the optimized methods yields results that are close quantitatively. In particular, the <code>scipy</code> and <code>sympy</code> results are matching to the 12<sup>th</sup> decimal place, so we can call this the \"actual\" result. We evaluate the cutom methods with increasing resolution and view the convergence"
   ]
  },
  {
   "cell_type": "code",
   "execution_count": 48,
   "metadata": {},
   "outputs": [],
   "source": [
    "n = np.linspace(0,10,11).astype(int)\n",
    "N = 2**n\n",
    "\n",
    "M = np.zeros(len(N))\n",
    "T = np.zeros(len(N))\n",
    "S = np.zeros(len(N))\n",
    "\n",
    "for idx, i in enumerate(N):\n",
    "    M[idx] = midpoint(0,5,i)\n",
    "    T[idx] = trapezoidal(0,5,i)\n",
    "    S[idx] = simpson(0,5,i)"
   ]
  },
  {
   "cell_type": "code",
   "execution_count": 49,
   "metadata": {},
   "outputs": [],
   "source": [
    "with plt.style.context(\"seaborn-notebook\"):\n",
    "\n",
    "    params = {\n",
    "        \"marker\":\"o\",\n",
    "        \"markersize\":5,\n",
    "        \"linestyle\":\"--\",\n",
    "        \"linewidth\":1,\n",
    "        }\n",
    "\n",
    "    fig, ax = plt.subplots(ncols=1, nrows=1, figsize=(5,5))\n",
    "    ax.plot(N, M, **params, color='k', label = \"Midpoint\")\n",
    "    ax.plot(N, T, **params, color='m', label = \"Trapezoidal\")\n",
    "    ax.plot(N, S, **params, color='g', label = \"Simpson\")\n",
    "    ax.axhline(y=I_scipy, color = 'r', linewidth = 0.5, label = \"Scipy\")\n",
    "    ax.axhline(y=I_sympy, color = 'b', linewidth = 0.5, label = \"Sympy\")\n",
    "    ax.set_xscale(\"log\", base=2)\n",
    "    ax.set_xlabel(\"Iterations\", fontsize=15)\n",
    "    ax.set_ylabel(\"Calculated Value\", fontsize=15)\n",
    "    ax.legend(loc=\"best\")"
   ]
  },
  {
   "attachments": {},
   "cell_type": "markdown",
   "metadata": {},
   "source": [
    "Interestingly, Simpson's rule has the slowest convergence. This is because it does not behave well for sinusoidal functions and will diverge in many cases."
   ]
  },
  {
   "cell_type": "markdown",
   "metadata": {},
   "source": []
  }
 ],
 "metadata": {
  "kernelspec": {
   "display_name": "Python 3",
   "language": "python",
   "name": "python3"
  },
  "language_info": {
   "codemirror_mode": {
    "name": "ipython",
    "version": 3
   },
   "file_extension": ".py",
   "mimetype": "text/x-python",
   "name": "python",
   "nbconvert_exporter": "python",
   "pygments_lexer": "ipython3",
   "version": "3.10.8"
  },
  "orig_nbformat": 4,
  "vscode": {
   "interpreter": {
    "hash": "2213fd06dc5c8fb6d0d0cb5a1d89f86454c525c9776760efd815d21b2002c8fc"
   }
  }
 },
 "nbformat": 4,
 "nbformat_minor": 2
}
